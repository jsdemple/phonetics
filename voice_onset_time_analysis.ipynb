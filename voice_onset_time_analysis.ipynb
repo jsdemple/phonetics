{
 "cells": [
  {
   "cell_type": "markdown",
   "metadata": {},
   "source": [
    "# Voice Onset Time Analysis:\n",
    "\n",
    "### Overview\n",
    "This is for a homework assignment in my graduate level phonetics course at CU Boulder. For this assignment, I measured the voice onset time (VOT) and vowel duration for 50 or so CVC words (this means the words are all three syllables long and follow the format consonant-vowel-consonant). The words are all spoken by one native speaker of what appears to be Standard American English, so the results may vary for different speakers (especially if the speaker's L1 is not SAE).<br>\n",
    "Five questions are addressed in this analysis:\n",
    "#### Question 1:<br>\n",
    "Does the voicing of a consonant affect the duration of a preceding vowel?\n",
    "#### Question 2:<br>\n",
    "Does the voicing of a consonant affect the duration of a following vowel?\n",
    "#### Question 3:<br>\n",
    "Does the voicing of a consonant affect the VOT of a preceding consonant?\n",
    "#### Question 4:<br>\n",
    "Does the voicing of a consonant affect its VOT?\n",
    "\n",
    "For each question, I assumed the null hypothesis and tested to see if it could be disproved. For more information on the methodology see \"Methods\" below. For more detailed analysis and the results see \"Analysis.\""
   ]
  },
  {
   "cell_type": "markdown",
   "metadata": {},
   "source": [
    "# ETL"
   ]
  },
  {
   "cell_type": "code",
   "execution_count": 1,
   "metadata": {
    "collapsed": true
   },
   "outputs": [],
   "source": [
    "import pandas as pd\n",
    "import numpy as np\n",
    "from scipy.stats.mstats import ks_2samp\n",
    "%matplotlib inline"
   ]
  },
  {
   "cell_type": "code",
   "execution_count": 2,
   "metadata": {
    "collapsed": true
   },
   "outputs": [],
   "source": [
    "# column names\n",
    "names = ['t1', 't2', 'duration', 'filename']"
   ]
  },
  {
   "cell_type": "code",
   "execution_count": 3,
   "metadata": {
    "scrolled": true
   },
   "outputs": [
    {
     "data": {
      "text/html": [
       "<div>\n",
       "<style>\n",
       "    .dataframe thead tr:only-child th {\n",
       "        text-align: right;\n",
       "    }\n",
       "\n",
       "    .dataframe thead th {\n",
       "        text-align: left;\n",
       "    }\n",
       "\n",
       "    .dataframe tbody tr th {\n",
       "        vertical-align: top;\n",
       "    }\n",
       "</style>\n",
       "<table border=\"1\" class=\"dataframe\">\n",
       "  <thead>\n",
       "    <tr style=\"text-align: right;\">\n",
       "      <th></th>\n",
       "      <th>t1</th>\n",
       "      <th>t2</th>\n",
       "      <th>duration</th>\n",
       "      <th>filename</th>\n",
       "    </tr>\n",
       "  </thead>\n",
       "  <tbody>\n",
       "    <tr>\n",
       "      <th>0</th>\n",
       "      <td>0.693</td>\n",
       "      <td>0.940</td>\n",
       "      <td>0.248</td>\n",
       "      <td>1. Sound spkr1-pat</td>\n",
       "    </tr>\n",
       "    <tr>\n",
       "      <th>1</th>\n",
       "      <td>0.690</td>\n",
       "      <td>0.796</td>\n",
       "      <td>0.106</td>\n",
       "      <td>1. Sound spkr1-pat</td>\n",
       "    </tr>\n",
       "    <tr>\n",
       "      <th>2</th>\n",
       "      <td>0.638</td>\n",
       "      <td>0.865</td>\n",
       "      <td>0.227</td>\n",
       "      <td>2. Sound spkr1-pot</td>\n",
       "    </tr>\n",
       "    <tr>\n",
       "      <th>3</th>\n",
       "      <td>0.638</td>\n",
       "      <td>0.743</td>\n",
       "      <td>0.104</td>\n",
       "      <td>2. Sound spkr1-pot</td>\n",
       "    </tr>\n",
       "    <tr>\n",
       "      <th>4</th>\n",
       "      <td>0.584</td>\n",
       "      <td>0.834</td>\n",
       "      <td>0.250</td>\n",
       "      <td>3. Sound spkr1-cot</td>\n",
       "    </tr>\n",
       "  </tbody>\n",
       "</table>\n",
       "</div>"
      ],
      "text/plain": [
       "      t1     t2  duration             filename\n",
       "0  0.693  0.940     0.248   1. Sound spkr1-pat\n",
       "1  0.690  0.796     0.106   1. Sound spkr1-pat\n",
       "2  0.638  0.865     0.227   2. Sound spkr1-pot\n",
       "3  0.638  0.743     0.104   2. Sound spkr1-pot\n",
       "4  0.584  0.834     0.250   3. Sound spkr1-cot"
      ]
     },
     "execution_count": 3,
     "metadata": {},
     "output_type": "execute_result"
    }
   ],
   "source": [
    "durations = pd.read_csv('./data/duration_log.tsv', sep='\\t', names=names)\n",
    "durations.head()"
   ]
  },
  {
   "cell_type": "code",
   "execution_count": 4,
   "metadata": {
    "collapsed": true,
    "scrolled": true
   },
   "outputs": [],
   "source": [
    "# add indicator for word\n",
    "durations['word'] = durations['filename'].str.split('-', expand=True)[1]\n",
    "durations.drop('filename', axis=1, inplace=True)"
   ]
  },
  {
   "cell_type": "code",
   "execution_count": 5,
   "metadata": {
    "scrolled": true
   },
   "outputs": [
    {
     "data": {
      "text/html": [
       "<div>\n",
       "<style>\n",
       "    .dataframe thead tr:only-child th {\n",
       "        text-align: right;\n",
       "    }\n",
       "\n",
       "    .dataframe thead th {\n",
       "        text-align: left;\n",
       "    }\n",
       "\n",
       "    .dataframe tbody tr th {\n",
       "        vertical-align: top;\n",
       "    }\n",
       "</style>\n",
       "<table border=\"1\" class=\"dataframe\">\n",
       "  <thead>\n",
       "    <tr style=\"text-align: right;\">\n",
       "      <th></th>\n",
       "      <th>t1</th>\n",
       "      <th>t2</th>\n",
       "      <th>duration</th>\n",
       "      <th>word</th>\n",
       "    </tr>\n",
       "  </thead>\n",
       "  <tbody>\n",
       "    <tr>\n",
       "      <th>0</th>\n",
       "      <td>0.693</td>\n",
       "      <td>0.940</td>\n",
       "      <td>0.248</td>\n",
       "      <td>pat</td>\n",
       "    </tr>\n",
       "    <tr>\n",
       "      <th>1</th>\n",
       "      <td>0.690</td>\n",
       "      <td>0.796</td>\n",
       "      <td>0.106</td>\n",
       "      <td>pat</td>\n",
       "    </tr>\n",
       "    <tr>\n",
       "      <th>2</th>\n",
       "      <td>0.638</td>\n",
       "      <td>0.865</td>\n",
       "      <td>0.227</td>\n",
       "      <td>pot</td>\n",
       "    </tr>\n",
       "    <tr>\n",
       "      <th>3</th>\n",
       "      <td>0.638</td>\n",
       "      <td>0.743</td>\n",
       "      <td>0.104</td>\n",
       "      <td>pot</td>\n",
       "    </tr>\n",
       "    <tr>\n",
       "      <th>4</th>\n",
       "      <td>0.584</td>\n",
       "      <td>0.834</td>\n",
       "      <td>0.250</td>\n",
       "      <td>cot</td>\n",
       "    </tr>\n",
       "  </tbody>\n",
       "</table>\n",
       "</div>"
      ],
      "text/plain": [
       "      t1     t2  duration word\n",
       "0  0.693  0.940     0.248  pat\n",
       "1  0.690  0.796     0.106  pat\n",
       "2  0.638  0.865     0.227  pot\n",
       "3  0.638  0.743     0.104  pot\n",
       "4  0.584  0.834     0.250  cot"
      ]
     },
     "execution_count": 5,
     "metadata": {},
     "output_type": "execute_result"
    }
   ],
   "source": [
    "durations.head()"
   ]
  },
  {
   "cell_type": "code",
   "execution_count": 6,
   "metadata": {
    "scrolled": true
   },
   "outputs": [
    {
     "data": {
      "text/html": [
       "<div>\n",
       "<style>\n",
       "    .dataframe thead tr:only-child th {\n",
       "        text-align: right;\n",
       "    }\n",
       "\n",
       "    .dataframe thead th {\n",
       "        text-align: left;\n",
       "    }\n",
       "\n",
       "    .dataframe tbody tr th {\n",
       "        vertical-align: top;\n",
       "    }\n",
       "</style>\n",
       "<table border=\"1\" class=\"dataframe\">\n",
       "  <thead>\n",
       "    <tr style=\"text-align: right;\">\n",
       "      <th></th>\n",
       "      <th>t1</th>\n",
       "      <th>t2</th>\n",
       "      <th>duration</th>\n",
       "      <th>word</th>\n",
       "    </tr>\n",
       "  </thead>\n",
       "  <tbody>\n",
       "    <tr>\n",
       "      <th>32</th>\n",
       "      <td>0.767</td>\n",
       "      <td>0.982</td>\n",
       "      <td>0.215</td>\n",
       "      <td>bat</td>\n",
       "    </tr>\n",
       "    <tr>\n",
       "      <th>33</th>\n",
       "      <td>0.767</td>\n",
       "      <td>0.781</td>\n",
       "      <td>0.015</td>\n",
       "      <td>bat</td>\n",
       "    </tr>\n",
       "    <tr>\n",
       "      <th>34</th>\n",
       "      <td>0.686</td>\n",
       "      <td>0.867</td>\n",
       "      <td>0.180</td>\n",
       "      <td>bought</td>\n",
       "    </tr>\n",
       "    <tr>\n",
       "      <th>35</th>\n",
       "      <td>0.688</td>\n",
       "      <td>0.701</td>\n",
       "      <td>0.014</td>\n",
       "      <td>bought</td>\n",
       "    </tr>\n",
       "    <tr>\n",
       "      <th>38</th>\n",
       "      <td>0.718</td>\n",
       "      <td>0.869</td>\n",
       "      <td>0.151</td>\n",
       "      <td>but</td>\n",
       "    </tr>\n",
       "  </tbody>\n",
       "</table>\n",
       "</div>"
      ],
      "text/plain": [
       "       t1     t2  duration    word\n",
       "32  0.767  0.982     0.215     bat\n",
       "33  0.767  0.781     0.015     bat\n",
       "34  0.686  0.867     0.180  bought\n",
       "35  0.688  0.701     0.014  bought\n",
       "38  0.718  0.869     0.151     but"
      ]
     },
     "execution_count": 6,
     "metadata": {},
     "output_type": "execute_result"
    }
   ],
   "source": [
    "# add features for initial voiced and final voiced\n",
    "# Whether the first and last consonant are voiced\n",
    "voiced = ['b', 'd', 'g']\n",
    "voiceless = ['p', 'c', 't', 'k']\n",
    "# durations[durations['word'].isin(voiced)]\n",
    "durations[durations['word'].str.startswith('b')].head()\n"
   ]
  },
  {
   "cell_type": "code",
   "execution_count": 7,
   "metadata": {
    "collapsed": true
   },
   "outputs": [],
   "source": [
    "# Add Column for voiced initial\n",
    "conditions = [# initial voiced\n",
    "             (durations['word'].str.startswith('b')),\n",
    "             (durations['word'].str.startswith('d')),\n",
    "             (durations['word'].str.startswith('g')),\n",
    "              # initial voiceless\n",
    "             (durations['word'].str.startswith('p')),\n",
    "             (durations['word'].str.startswith('c')),\n",
    "             (durations['word'].str.startswith('t')),\n",
    "             (durations['word'].str.startswith('k'))]\n",
    "#               # final voiced\n",
    "#              (np.select(durations['word'].str.endswith('b'))),\n",
    "#              (np.select(durations['word'].str.endswith('d'))),\n",
    "#              (np.select(durations['word'].str.endswith('g'))),\n",
    "#               # final voiceless\n",
    "#              (np.select(durations['word'].str.endswith('p'))),\n",
    "#              (np.select(durations['word'].str.endswith('c'))),\n",
    "#              (np.select(durations['word'].str.endswith('t'))),\n",
    "#              (np.select(durations['word'].str.endswith('k')))]\n",
    "choices = 3*[1] + 4*[0]  # 1 is voiced"
   ]
  },
  {
   "cell_type": "code",
   "execution_count": 8,
   "metadata": {
    "collapsed": true
   },
   "outputs": [],
   "source": [
    "durations['voiced_initial'] = np.select(conditions, choices, default=np.nan)"
   ]
  },
  {
   "cell_type": "code",
   "execution_count": 9,
   "metadata": {},
   "outputs": [
    {
     "data": {
      "text/html": [
       "<div>\n",
       "<style>\n",
       "    .dataframe thead tr:only-child th {\n",
       "        text-align: right;\n",
       "    }\n",
       "\n",
       "    .dataframe thead th {\n",
       "        text-align: left;\n",
       "    }\n",
       "\n",
       "    .dataframe tbody tr th {\n",
       "        vertical-align: top;\n",
       "    }\n",
       "</style>\n",
       "<table border=\"1\" class=\"dataframe\">\n",
       "  <thead>\n",
       "    <tr style=\"text-align: right;\">\n",
       "      <th></th>\n",
       "      <th>t1</th>\n",
       "      <th>t2</th>\n",
       "      <th>duration</th>\n",
       "      <th>voiced_initial</th>\n",
       "    </tr>\n",
       "  </thead>\n",
       "  <tbody>\n",
       "    <tr>\n",
       "      <th>count</th>\n",
       "      <td>64.000000</td>\n",
       "      <td>64.000000</td>\n",
       "      <td>64.000000</td>\n",
       "      <td>64.000000</td>\n",
       "    </tr>\n",
       "    <tr>\n",
       "      <th>mean</th>\n",
       "      <td>0.712547</td>\n",
       "      <td>0.852516</td>\n",
       "      <td>0.140000</td>\n",
       "      <td>0.500000</td>\n",
       "    </tr>\n",
       "    <tr>\n",
       "      <th>std</th>\n",
       "      <td>0.056395</td>\n",
       "      <td>0.104429</td>\n",
       "      <td>0.097328</td>\n",
       "      <td>0.503953</td>\n",
       "    </tr>\n",
       "    <tr>\n",
       "      <th>min</th>\n",
       "      <td>0.584000</td>\n",
       "      <td>0.673000</td>\n",
       "      <td>0.013000</td>\n",
       "      <td>0.000000</td>\n",
       "    </tr>\n",
       "    <tr>\n",
       "      <th>25%</th>\n",
       "      <td>0.677250</td>\n",
       "      <td>0.759500</td>\n",
       "      <td>0.061000</td>\n",
       "      <td>0.000000</td>\n",
       "    </tr>\n",
       "    <tr>\n",
       "      <th>50%</th>\n",
       "      <td>0.699500</td>\n",
       "      <td>0.852500</td>\n",
       "      <td>0.120500</td>\n",
       "      <td>0.500000</td>\n",
       "    </tr>\n",
       "    <tr>\n",
       "      <th>75%</th>\n",
       "      <td>0.747500</td>\n",
       "      <td>0.919500</td>\n",
       "      <td>0.218000</td>\n",
       "      <td>1.000000</td>\n",
       "    </tr>\n",
       "    <tr>\n",
       "      <th>max</th>\n",
       "      <td>0.838000</td>\n",
       "      <td>1.149000</td>\n",
       "      <td>0.331000</td>\n",
       "      <td>1.000000</td>\n",
       "    </tr>\n",
       "  </tbody>\n",
       "</table>\n",
       "</div>"
      ],
      "text/plain": [
       "              t1         t2   duration  voiced_initial\n",
       "count  64.000000  64.000000  64.000000       64.000000\n",
       "mean    0.712547   0.852516   0.140000        0.500000\n",
       "std     0.056395   0.104429   0.097328        0.503953\n",
       "min     0.584000   0.673000   0.013000        0.000000\n",
       "25%     0.677250   0.759500   0.061000        0.000000\n",
       "50%     0.699500   0.852500   0.120500        0.500000\n",
       "75%     0.747500   0.919500   0.218000        1.000000\n",
       "max     0.838000   1.149000   0.331000        1.000000"
      ]
     },
     "execution_count": 9,
     "metadata": {},
     "output_type": "execute_result"
    }
   ],
   "source": [
    "# Looks good. Half of our words are marked voiced initial which matches our data\n",
    "durations.describe()"
   ]
  },
  {
   "cell_type": "code",
   "execution_count": 10,
   "metadata": {
    "collapsed": true
   },
   "outputs": [],
   "source": [
    "# Add Column for voiced final\n",
    "conditions = [# initial voiced\n",
    "#              (durations['word'].str.startswith('b')),\n",
    "#              (durations['word'].str.startswith('d')),\n",
    "#              (durations['word'].str.startswith('g')),\n",
    "#               # initial voiceless\n",
    "#              (durations['word'].str.startswith('p')),\n",
    "#              (durations['word'].str.startswith('c')),\n",
    "#              (durations['word'].str.startswith('t')),\n",
    "#              (durations['word'].str.startswith('k'))]\n",
    "              # final voiced\n",
    "             (durations['word'].str.endswith('b')),\n",
    "             (durations['word'].str.endswith('d')),\n",
    "             (durations['word'].str.endswith('g')),\n",
    "              # final voiceless\n",
    "             (durations['word'].str.endswith('p')),\n",
    "             (durations['word'].str.endswith('c')),\n",
    "             (durations['word'].str.endswith('t')),\n",
    "             (durations['word'].str.endswith('k'))]\n",
    "choices = 3*[1] + 4*[0]  # 1 is voiced"
   ]
  },
  {
   "cell_type": "code",
   "execution_count": 11,
   "metadata": {},
   "outputs": [
    {
     "data": {
      "text/html": [
       "<div>\n",
       "<style>\n",
       "    .dataframe thead tr:only-child th {\n",
       "        text-align: right;\n",
       "    }\n",
       "\n",
       "    .dataframe thead th {\n",
       "        text-align: left;\n",
       "    }\n",
       "\n",
       "    .dataframe tbody tr th {\n",
       "        vertical-align: top;\n",
       "    }\n",
       "</style>\n",
       "<table border=\"1\" class=\"dataframe\">\n",
       "  <thead>\n",
       "    <tr style=\"text-align: right;\">\n",
       "      <th></th>\n",
       "      <th>t1</th>\n",
       "      <th>t2</th>\n",
       "      <th>duration</th>\n",
       "      <th>voiced_initial</th>\n",
       "      <th>voiced_final</th>\n",
       "    </tr>\n",
       "  </thead>\n",
       "  <tbody>\n",
       "    <tr>\n",
       "      <th>count</th>\n",
       "      <td>64.000000</td>\n",
       "      <td>64.000000</td>\n",
       "      <td>64.000000</td>\n",
       "      <td>64.000000</td>\n",
       "      <td>64.000000</td>\n",
       "    </tr>\n",
       "    <tr>\n",
       "      <th>mean</th>\n",
       "      <td>0.712547</td>\n",
       "      <td>0.852516</td>\n",
       "      <td>0.140000</td>\n",
       "      <td>0.500000</td>\n",
       "      <td>0.500000</td>\n",
       "    </tr>\n",
       "    <tr>\n",
       "      <th>std</th>\n",
       "      <td>0.056395</td>\n",
       "      <td>0.104429</td>\n",
       "      <td>0.097328</td>\n",
       "      <td>0.503953</td>\n",
       "      <td>0.503953</td>\n",
       "    </tr>\n",
       "    <tr>\n",
       "      <th>min</th>\n",
       "      <td>0.584000</td>\n",
       "      <td>0.673000</td>\n",
       "      <td>0.013000</td>\n",
       "      <td>0.000000</td>\n",
       "      <td>0.000000</td>\n",
       "    </tr>\n",
       "    <tr>\n",
       "      <th>25%</th>\n",
       "      <td>0.677250</td>\n",
       "      <td>0.759500</td>\n",
       "      <td>0.061000</td>\n",
       "      <td>0.000000</td>\n",
       "      <td>0.000000</td>\n",
       "    </tr>\n",
       "    <tr>\n",
       "      <th>50%</th>\n",
       "      <td>0.699500</td>\n",
       "      <td>0.852500</td>\n",
       "      <td>0.120500</td>\n",
       "      <td>0.500000</td>\n",
       "      <td>0.500000</td>\n",
       "    </tr>\n",
       "    <tr>\n",
       "      <th>75%</th>\n",
       "      <td>0.747500</td>\n",
       "      <td>0.919500</td>\n",
       "      <td>0.218000</td>\n",
       "      <td>1.000000</td>\n",
       "      <td>1.000000</td>\n",
       "    </tr>\n",
       "    <tr>\n",
       "      <th>max</th>\n",
       "      <td>0.838000</td>\n",
       "      <td>1.149000</td>\n",
       "      <td>0.331000</td>\n",
       "      <td>1.000000</td>\n",
       "      <td>1.000000</td>\n",
       "    </tr>\n",
       "  </tbody>\n",
       "</table>\n",
       "</div>"
      ],
      "text/plain": [
       "              t1         t2   duration  voiced_initial  voiced_final\n",
       "count  64.000000  64.000000  64.000000       64.000000     64.000000\n",
       "mean    0.712547   0.852516   0.140000        0.500000      0.500000\n",
       "std     0.056395   0.104429   0.097328        0.503953      0.503953\n",
       "min     0.584000   0.673000   0.013000        0.000000      0.000000\n",
       "25%     0.677250   0.759500   0.061000        0.000000      0.000000\n",
       "50%     0.699500   0.852500   0.120500        0.500000      0.500000\n",
       "75%     0.747500   0.919500   0.218000        1.000000      1.000000\n",
       "max     0.838000   1.149000   0.331000        1.000000      1.000000"
      ]
     },
     "execution_count": 11,
     "metadata": {},
     "output_type": "execute_result"
    }
   ],
   "source": [
    "# Again, looks good\n",
    "durations['voiced_final'] = np.select(conditions, choices, default=np.nan)\n",
    "durations.describe()"
   ]
  },
  {
   "cell_type": "code",
   "execution_count": 12,
   "metadata": {},
   "outputs": [
    {
     "data": {
      "text/html": [
       "<div>\n",
       "<style>\n",
       "    .dataframe thead tr:only-child th {\n",
       "        text-align: right;\n",
       "    }\n",
       "\n",
       "    .dataframe thead th {\n",
       "        text-align: left;\n",
       "    }\n",
       "\n",
       "    .dataframe tbody tr th {\n",
       "        vertical-align: top;\n",
       "    }\n",
       "</style>\n",
       "<table border=\"1\" class=\"dataframe\">\n",
       "  <thead>\n",
       "    <tr style=\"text-align: right;\">\n",
       "      <th></th>\n",
       "      <th>t1</th>\n",
       "      <th>t2</th>\n",
       "      <th>duration</th>\n",
       "      <th>word</th>\n",
       "      <th>voiced_initial</th>\n",
       "      <th>voiced_final</th>\n",
       "    </tr>\n",
       "  </thead>\n",
       "  <tbody>\n",
       "    <tr>\n",
       "      <th>0</th>\n",
       "      <td>0.693</td>\n",
       "      <td>0.940</td>\n",
       "      <td>0.248</td>\n",
       "      <td>pat</td>\n",
       "      <td>0.0</td>\n",
       "      <td>0.0</td>\n",
       "    </tr>\n",
       "    <tr>\n",
       "      <th>1</th>\n",
       "      <td>0.690</td>\n",
       "      <td>0.796</td>\n",
       "      <td>0.106</td>\n",
       "      <td>pat</td>\n",
       "      <td>0.0</td>\n",
       "      <td>0.0</td>\n",
       "    </tr>\n",
       "    <tr>\n",
       "      <th>2</th>\n",
       "      <td>0.638</td>\n",
       "      <td>0.865</td>\n",
       "      <td>0.227</td>\n",
       "      <td>pot</td>\n",
       "      <td>0.0</td>\n",
       "      <td>0.0</td>\n",
       "    </tr>\n",
       "    <tr>\n",
       "      <th>3</th>\n",
       "      <td>0.638</td>\n",
       "      <td>0.743</td>\n",
       "      <td>0.104</td>\n",
       "      <td>pot</td>\n",
       "      <td>0.0</td>\n",
       "      <td>0.0</td>\n",
       "    </tr>\n",
       "    <tr>\n",
       "      <th>4</th>\n",
       "      <td>0.584</td>\n",
       "      <td>0.834</td>\n",
       "      <td>0.250</td>\n",
       "      <td>cot</td>\n",
       "      <td>0.0</td>\n",
       "      <td>0.0</td>\n",
       "    </tr>\n",
       "  </tbody>\n",
       "</table>\n",
       "</div>"
      ],
      "text/plain": [
       "      t1     t2  duration word  voiced_initial  voiced_final\n",
       "0  0.693  0.940     0.248  pat             0.0           0.0\n",
       "1  0.690  0.796     0.106  pat             0.0           0.0\n",
       "2  0.638  0.865     0.227  pot             0.0           0.0\n",
       "3  0.638  0.743     0.104  pot             0.0           0.0\n",
       "4  0.584  0.834     0.250  cot             0.0           0.0"
      ]
     },
     "execution_count": 12,
     "metadata": {},
     "output_type": "execute_result"
    }
   ],
   "source": [
    "durations.head()"
   ]
  },
  {
   "cell_type": "code",
   "execution_count": 13,
   "metadata": {},
   "outputs": [
    {
     "data": {
      "text/html": [
       "<div>\n",
       "<style>\n",
       "    .dataframe thead tr:only-child th {\n",
       "        text-align: right;\n",
       "    }\n",
       "\n",
       "    .dataframe thead th {\n",
       "        text-align: left;\n",
       "    }\n",
       "\n",
       "    .dataframe tbody tr th {\n",
       "        vertical-align: top;\n",
       "    }\n",
       "</style>\n",
       "<table border=\"1\" class=\"dataframe\">\n",
       "  <thead>\n",
       "    <tr style=\"text-align: right;\">\n",
       "      <th></th>\n",
       "      <th>t1</th>\n",
       "      <th>t2</th>\n",
       "      <th>duration</th>\n",
       "      <th>word</th>\n",
       "      <th>voiced_initial</th>\n",
       "      <th>voiced_final</th>\n",
       "      <th>segment_measured</th>\n",
       "    </tr>\n",
       "  </thead>\n",
       "  <tbody>\n",
       "    <tr>\n",
       "      <th>0</th>\n",
       "      <td>0.693</td>\n",
       "      <td>0.940</td>\n",
       "      <td>0.248</td>\n",
       "      <td>pat</td>\n",
       "      <td>0.0</td>\n",
       "      <td>0.0</td>\n",
       "      <td>vowel</td>\n",
       "    </tr>\n",
       "    <tr>\n",
       "      <th>1</th>\n",
       "      <td>0.690</td>\n",
       "      <td>0.796</td>\n",
       "      <td>0.106</td>\n",
       "      <td>pat</td>\n",
       "      <td>0.0</td>\n",
       "      <td>0.0</td>\n",
       "      <td>VOT</td>\n",
       "    </tr>\n",
       "    <tr>\n",
       "      <th>2</th>\n",
       "      <td>0.638</td>\n",
       "      <td>0.865</td>\n",
       "      <td>0.227</td>\n",
       "      <td>pot</td>\n",
       "      <td>0.0</td>\n",
       "      <td>0.0</td>\n",
       "      <td>vowel</td>\n",
       "    </tr>\n",
       "    <tr>\n",
       "      <th>3</th>\n",
       "      <td>0.638</td>\n",
       "      <td>0.743</td>\n",
       "      <td>0.104</td>\n",
       "      <td>pot</td>\n",
       "      <td>0.0</td>\n",
       "      <td>0.0</td>\n",
       "      <td>VOT</td>\n",
       "    </tr>\n",
       "    <tr>\n",
       "      <th>4</th>\n",
       "      <td>0.584</td>\n",
       "      <td>0.834</td>\n",
       "      <td>0.250</td>\n",
       "      <td>cot</td>\n",
       "      <td>0.0</td>\n",
       "      <td>0.0</td>\n",
       "      <td>vowel</td>\n",
       "    </tr>\n",
       "    <tr>\n",
       "      <th>5</th>\n",
       "      <td>0.586</td>\n",
       "      <td>0.702</td>\n",
       "      <td>0.116</td>\n",
       "      <td>cot</td>\n",
       "      <td>0.0</td>\n",
       "      <td>0.0</td>\n",
       "      <td>VOT</td>\n",
       "    </tr>\n",
       "    <tr>\n",
       "      <th>6</th>\n",
       "      <td>0.647</td>\n",
       "      <td>0.858</td>\n",
       "      <td>0.211</td>\n",
       "      <td>putt</td>\n",
       "      <td>0.0</td>\n",
       "      <td>0.0</td>\n",
       "      <td>vowel</td>\n",
       "    </tr>\n",
       "    <tr>\n",
       "      <th>7</th>\n",
       "      <td>0.648</td>\n",
       "      <td>0.727</td>\n",
       "      <td>0.080</td>\n",
       "      <td>putt</td>\n",
       "      <td>0.0</td>\n",
       "      <td>0.0</td>\n",
       "      <td>VOT</td>\n",
       "    </tr>\n",
       "    <tr>\n",
       "      <th>8</th>\n",
       "      <td>0.666</td>\n",
       "      <td>0.893</td>\n",
       "      <td>0.227</td>\n",
       "      <td>talk</td>\n",
       "      <td>0.0</td>\n",
       "      <td>0.0</td>\n",
       "      <td>vowel</td>\n",
       "    </tr>\n",
       "    <tr>\n",
       "      <th>9</th>\n",
       "      <td>0.666</td>\n",
       "      <td>0.760</td>\n",
       "      <td>0.095</td>\n",
       "      <td>talk</td>\n",
       "      <td>0.0</td>\n",
       "      <td>0.0</td>\n",
       "      <td>VOT</td>\n",
       "    </tr>\n",
       "  </tbody>\n",
       "</table>\n",
       "</div>"
      ],
      "text/plain": [
       "      t1     t2  duration  word  voiced_initial  voiced_final segment_measured\n",
       "0  0.693  0.940     0.248   pat             0.0           0.0            vowel\n",
       "1  0.690  0.796     0.106   pat             0.0           0.0              VOT\n",
       "2  0.638  0.865     0.227   pot             0.0           0.0            vowel\n",
       "3  0.638  0.743     0.104   pot             0.0           0.0              VOT\n",
       "4  0.584  0.834     0.250   cot             0.0           0.0            vowel\n",
       "5  0.586  0.702     0.116   cot             0.0           0.0              VOT\n",
       "6  0.647  0.858     0.211  putt             0.0           0.0            vowel\n",
       "7  0.648  0.727     0.080  putt             0.0           0.0              VOT\n",
       "8  0.666  0.893     0.227  talk             0.0           0.0            vowel\n",
       "9  0.666  0.760     0.095  talk             0.0           0.0              VOT"
      ]
     },
     "execution_count": 13,
     "metadata": {},
     "output_type": "execute_result"
    }
   ],
   "source": [
    "# first instance of word is the duration of the vowel\n",
    "# second instance is the voice onset time (VOT)\n",
    "conditions = [\n",
    "(durations.index % 2 == 0),\n",
    "(durations.index % 2 == 1)\n",
    "]\n",
    "choices = ['vowel', 'VOT']\n",
    "durations['segment_measured'] = np.select(conditions, choices, default=np.nan)\n",
    "durations.head(10)"
   ]
  },
  {
   "cell_type": "markdown",
   "metadata": {},
   "source": [
    "# Introduction"
   ]
  },
  {
   "cell_type": "markdown",
   "metadata": {},
   "source": [
    "\"Many linguistic factors systematically influence the duration of individual segments in speech.  This lab investigates the effect of the voicing of a consonant on the duration of adjacent or nearby segments in American English.\n",
    "\" - from REPORT on LAB I:  DURATION"
   ]
  },
  {
   "cell_type": "markdown",
   "metadata": {},
   "source": [
    "## 1. \n",
    "State a specific and testable hypothesis to address each of the following questions.  Be sure your hypotheses refer to variables that you can (and will) actually measure and compare across some relevant conditions."
   ]
  },
  {
   "cell_type": "markdown",
   "metadata": {},
   "source": [
    "#### Experiment Rules\n",
    "I will set the p-value threshold to reject null hypothesis: <0.05\n",
    "For each question I will assume the null hypothesis is the case unless I find through a Kolmogorov-Smirnov test that the p-value is <0.05"
   ]
  },
  {
   "cell_type": "markdown",
   "metadata": {},
   "source": [
    "#### Question 1:<br>\n",
    "Does the voicing of a consonant affect the duration of a preceding vowel?\n",
    "\n",
    "Hypothesis:<br>\n",
    "I am going to assume the Null Hypothesis is true until proven false--That voicing of a consonant has no effect on the duration of the preceding vowel."
   ]
  },
  {
   "cell_type": "markdown",
   "metadata": {},
   "source": [
    "#### Question 2:<br>\n",
    "Does the voicing of a consonant affect the duration of a following vowel?\n",
    "\n",
    "Hypothesis:<br>\n",
    "I am going to assume the Null Hypothesis is true until proven false--That voicing of a consonant has no effect on the duration of the following vowel."
   ]
  },
  {
   "cell_type": "markdown",
   "metadata": {},
   "source": [
    "#### Question 3:<br>\n",
    "Does the voicing of a consonant affect the VOT of a preceding consonant?\n",
    "\n",
    "Hypothesis:<br>\n",
    "I am going to assume the Null Hypothesis is true until proven false--That voicing of a consonant has no effect on the VOT of a preceding consonant."
   ]
  },
  {
   "cell_type": "markdown",
   "metadata": {},
   "source": [
    "#### Question 4:<br>\n",
    "Does the voicing of a consonant affect its VOT?\n",
    "\n",
    "Hypothesis:<br>\n",
    "I am going to assume the Null Hypothesis is true until proven false--That voicing of a consonant has no effect its VOT."
   ]
  },
  {
   "cell_type": "markdown",
   "metadata": {},
   "source": [
    "# Methods"
   ]
  },
  {
   "cell_type": "markdown",
   "metadata": {},
   "source": [
    "## 2. \n",
    "Describe the variables that are controlled and manipulated in the set of stimuli.  (Hint, compare across the columns and the rows in the table of materials.  What changes and what stays the same?)"
   ]
  },
  {
   "cell_type": "markdown",
   "metadata": {},
   "source": [
    "All observations are CVC. What varies is the voicing and the position of the voicing (inital consonant is voiced, final, or both).<br><br>\n",
    "This leaves us with four categories:<br>\n",
    "A. C(voiceless),V,C(voiceless)<br>\n",
    "B. C(voiceless),V,C(voiced)<br>\n",
    "C. C(voiced),V,C(voiceless)<br>\n",
    "D. C(voiced),V,C(voiced)<br>"
   ]
  },
  {
   "cell_type": "markdown",
   "metadata": {},
   "source": [
    "## 3. \n",
    "How does this particular set of materials allow you to answer the experimental questions?  Referring to specific rows or columns, what will you compare to address each of your hypotheses?"
   ]
  },
  {
   "cell_type": "markdown",
   "metadata": {},
   "source": [
    "Dividing the data into the groups above helps us see different sets of data. What we can do with this is use a statistical test to determine if these groups were drawn from different distributions or if they appear to be drawn from the same distribution (which is the null hypothesis)."
   ]
  },
  {
   "cell_type": "markdown",
   "metadata": {},
   "source": [
    "## 4.\n",
    "State your measurement criteria.  (Yes, these are given in Handout 8, but restate them here in your own words to explain how you picked the portions of the sound that you measured for vowels and VOT.)  Did you make any special decisions about how to segment or measure?"
   ]
  },
  {
   "cell_type": "markdown",
   "metadata": {},
   "source": [
    "The criteria I used for vowel segmentation in gathering this data were that the start is at the release of the stop of the preceding consonant and the end of the vowel is when the higher formants (f3, f4) no longer appear in the spectrogram of the word.<br>"
   ]
  },
  {
   "cell_type": "markdown",
   "metadata": {},
   "source": [
    "# Analysis and Results"
   ]
  },
  {
   "cell_type": "markdown",
   "metadata": {},
   "source": [
    "### Question 1:<br>\n",
    "Does the voicing of a consonant affect the duration of a preceding vowel?\n",
    "\n",
    "Hypothesis:<br>\n",
    "I am going to assume the Null Hypothesis is true until proven false--That voicing of a consonant has no effect on the duration of the preceding vowel."
   ]
  },
  {
   "cell_type": "markdown",
   "metadata": {},
   "source": [
    "data for this question:<br>\n",
    "where segment_measured == vowel whether voiced_final is voiced or not"
   ]
  },
  {
   "cell_type": "code",
   "execution_count": 14,
   "metadata": {
    "collapsed": true
   },
   "outputs": [],
   "source": [
    "data1 = durations[durations['segment_measured'] == 'vowel']"
   ]
  },
  {
   "cell_type": "markdown",
   "metadata": {},
   "source": [
    "Descriptive stats"
   ]
  },
  {
   "cell_type": "code",
   "execution_count": 15,
   "metadata": {},
   "outputs": [
    {
     "data": {
      "text/html": [
       "<div>\n",
       "<style>\n",
       "    .dataframe thead tr:only-child th {\n",
       "        text-align: right;\n",
       "    }\n",
       "\n",
       "    .dataframe thead th {\n",
       "        text-align: left;\n",
       "    }\n",
       "\n",
       "    .dataframe tbody tr th {\n",
       "        vertical-align: top;\n",
       "    }\n",
       "</style>\n",
       "<table border=\"1\" class=\"dataframe\">\n",
       "  <thead>\n",
       "    <tr style=\"text-align: right;\">\n",
       "      <th></th>\n",
       "      <th>count</th>\n",
       "      <th>mean</th>\n",
       "      <th>std</th>\n",
       "      <th>min</th>\n",
       "      <th>25%</th>\n",
       "      <th>50%</th>\n",
       "      <th>75%</th>\n",
       "      <th>max</th>\n",
       "    </tr>\n",
       "  </thead>\n",
       "  <tbody>\n",
       "    <tr>\n",
       "      <th>voiceless</th>\n",
       "      <td>16.0</td>\n",
       "      <td>0.185625</td>\n",
       "      <td>0.041771</td>\n",
       "      <td>0.125</td>\n",
       "      <td>0.154</td>\n",
       "      <td>0.186</td>\n",
       "      <td>0.2180</td>\n",
       "      <td>0.250</td>\n",
       "    </tr>\n",
       "    <tr>\n",
       "      <th>voiced</th>\n",
       "      <td>16.0</td>\n",
       "      <td>0.260812</td>\n",
       "      <td>0.048503</td>\n",
       "      <td>0.156</td>\n",
       "      <td>0.226</td>\n",
       "      <td>0.258</td>\n",
       "      <td>0.3035</td>\n",
       "      <td>0.331</td>\n",
       "    </tr>\n",
       "  </tbody>\n",
       "</table>\n",
       "</div>"
      ],
      "text/plain": [
       "           count      mean       std    min    25%    50%     75%    max\n",
       "voiceless   16.0  0.185625  0.041771  0.125  0.154  0.186  0.2180  0.250\n",
       "voiced      16.0  0.260812  0.048503  0.156  0.226  0.258  0.3035  0.331"
      ]
     },
     "execution_count": 15,
     "metadata": {},
     "output_type": "execute_result"
    }
   ],
   "source": [
    "pd.DataFrame([(data1[data1['voiced_final'] == 0].duration.describe()),\n",
    "               data1[data1['voiced_final'] == 1].duration.describe()],\n",
    "             index=['voiceless', 'voiced'])"
   ]
  },
  {
   "cell_type": "code",
   "execution_count": 16,
   "metadata": {
    "scrolled": true
   },
   "outputs": [
    {
     "data": {
      "text/plain": [
       "<matplotlib.axes._subplots.AxesSubplot at 0x7f46878942e8>"
      ]
     },
     "execution_count": 16,
     "metadata": {},
     "output_type": "execute_result"
    },
    {
     "data": {
      "image/png": "[encoded data removed]",
      "text/plain": [
       "<matplotlib.figure.Figure at 0x7f46b83c9438>"
      ]
     },
     "metadata": {},
     "output_type": "display_data"
    }
   ],
   "source": [
    "data1.boxplot('duration', by='voiced_final')"
   ]
  },
  {
   "cell_type": "code",
   "execution_count": 17,
   "metadata": {},
   "outputs": [
    {
     "name": "stdout",
     "output_type": "stream",
     "text": [
      "D Statistic: 0.625 \n",
      "p-value: 0.00386090824468\n"
     ]
    }
   ],
   "source": [
    "D, p = ks_2samp(data1[data1['voiced_final'] == 0].duration,\n",
    "         data1[data1['voiced_final'] == 1].duration)\n",
    "print('D Statistic:', D, '\\np-value:', p)"
   ]
  },
  {
   "cell_type": "markdown",
   "metadata": {},
   "source": [
    "Hypothesis 1 is wrong<br>\n",
    "p-value is less than 0.05 threshold"
   ]
  },
  {
   "cell_type": "markdown",
   "metadata": {},
   "source": [
    "### Question 2:<br>\n",
    "Does the voicing of a consonant affect the duration of a following vowel?\n",
    "\n",
    "Hypothesis:<br>\n",
    "I am going to assume the Null Hypothesis is true until proven false--That voicing of a consonant has no effect on the duration of the following vowel."
   ]
  },
  {
   "cell_type": "markdown",
   "metadata": {},
   "source": [
    "data for this question:<br>\n",
    "Same data as question 1 though we are dealing with initial voicing not final.<br>\n",
    "Where segment_measured == vowel whether voiced_initial is voiced or not"
   ]
  },
  {
   "cell_type": "markdown",
   "metadata": {},
   "source": [
    "Descriptive stats"
   ]
  },
  {
   "cell_type": "code",
   "execution_count": 18,
   "metadata": {},
   "outputs": [
    {
     "data": {
      "text/html": [
       "<div>\n",
       "<style>\n",
       "    .dataframe thead tr:only-child th {\n",
       "        text-align: right;\n",
       "    }\n",
       "\n",
       "    .dataframe thead th {\n",
       "        text-align: left;\n",
       "    }\n",
       "\n",
       "    .dataframe tbody tr th {\n",
       "        vertical-align: top;\n",
       "    }\n",
       "</style>\n",
       "<table border=\"1\" class=\"dataframe\">\n",
       "  <thead>\n",
       "    <tr style=\"text-align: right;\">\n",
       "      <th></th>\n",
       "      <th>count</th>\n",
       "      <th>mean</th>\n",
       "      <th>std</th>\n",
       "      <th>min</th>\n",
       "      <th>25%</th>\n",
       "      <th>50%</th>\n",
       "      <th>75%</th>\n",
       "      <th>max</th>\n",
       "    </tr>\n",
       "  </thead>\n",
       "  <tbody>\n",
       "    <tr>\n",
       "      <th>voiceless</th>\n",
       "      <td>16.0</td>\n",
       "      <td>0.246313</td>\n",
       "      <td>0.048935</td>\n",
       "      <td>0.159</td>\n",
       "      <td>0.223</td>\n",
       "      <td>0.2485</td>\n",
       "      <td>0.27125</td>\n",
       "      <td>0.331</td>\n",
       "    </tr>\n",
       "    <tr>\n",
       "      <th>voiced</th>\n",
       "      <td>16.0</td>\n",
       "      <td>0.200125</td>\n",
       "      <td>0.059833</td>\n",
       "      <td>0.125</td>\n",
       "      <td>0.154</td>\n",
       "      <td>0.1995</td>\n",
       "      <td>0.22500</td>\n",
       "      <td>0.312</td>\n",
       "    </tr>\n",
       "  </tbody>\n",
       "</table>\n",
       "</div>"
      ],
      "text/plain": [
       "           count      mean       std    min    25%     50%      75%    max\n",
       "voiceless   16.0  0.246313  0.048935  0.159  0.223  0.2485  0.27125  0.331\n",
       "voiced      16.0  0.200125  0.059833  0.125  0.154  0.1995  0.22500  0.312"
      ]
     },
     "execution_count": 18,
     "metadata": {},
     "output_type": "execute_result"
    }
   ],
   "source": [
    "pd.DataFrame([(data1[data1['voiced_initial'] == 0].duration.describe()),\n",
    "               data1[data1['voiced_initial'] == 1].duration.describe()],\n",
    "             index=['voiceless', 'voiced'])"
   ]
  },
  {
   "cell_type": "code",
   "execution_count": 19,
   "metadata": {
    "scrolled": true
   },
   "outputs": [
    {
     "data": {
      "text/plain": [
       "<matplotlib.axes._subplots.AxesSubplot at 0x7f46844c1518>"
      ]
     },
     "execution_count": 19,
     "metadata": {},
     "output_type": "execute_result"
    },
    {
     "data": {
      "image/png": "[encoded data removed]",
      "text/plain": [
       "<matplotlib.figure.Figure at 0x7f46878afa90>"
      ]
     },
     "metadata": {},
     "output_type": "display_data"
    }
   ],
   "source": [
    "data1.boxplot('duration', by='voiced_initial')"
   ]
  },
  {
   "cell_type": "code",
   "execution_count": 20,
   "metadata": {
    "scrolled": true
   },
   "outputs": [
    {
     "name": "stdout",
     "output_type": "stream",
     "text": [
      "D Statistic: 0.5 \n",
      "p-value: 0.0366310527071\n"
     ]
    }
   ],
   "source": [
    "D, p = ks_2samp(data1[data1['voiced_initial'] == 0].duration,\n",
    "         data1[data1['voiced_initial'] == 1].duration)\n",
    "print('D Statistic:', D, '\\np-value:', p)"
   ]
  },
  {
   "cell_type": "markdown",
   "metadata": {},
   "source": [
    "Hypothesis 2 is wrong<br>\n",
    "p-value is less than 0.05 threshold"
   ]
  },
  {
   "cell_type": "markdown",
   "metadata": {},
   "source": [
    "### Question 3:<br>\n",
    "Does the voicing of a consonant affect the VOT of a preceding consonant?\n",
    "\n",
    "Hypothesis:<br>\n",
    "I am going to assume the Null Hypothesis is true until proven false--That voicing of a consonant has no effect on the VOT of a preceding consonant."
   ]
  },
  {
   "cell_type": "markdown",
   "metadata": {},
   "source": [
    "data for this question:<br>\n",
    "Where segment_measured == VOT whether voiced_final is voiced or not"
   ]
  },
  {
   "cell_type": "code",
   "execution_count": 21,
   "metadata": {
    "collapsed": true
   },
   "outputs": [],
   "source": [
    "data3 = durations[durations['segment_measured'] == 'VOT']"
   ]
  },
  {
   "cell_type": "markdown",
   "metadata": {},
   "source": [
    "Descriptive Statistics"
   ]
  },
  {
   "cell_type": "code",
   "execution_count": 22,
   "metadata": {},
   "outputs": [
    {
     "data": {
      "text/html": [
       "<div>\n",
       "<style>\n",
       "    .dataframe thead tr:only-child th {\n",
       "        text-align: right;\n",
       "    }\n",
       "\n",
       "    .dataframe thead th {\n",
       "        text-align: left;\n",
       "    }\n",
       "\n",
       "    .dataframe tbody tr th {\n",
       "        vertical-align: top;\n",
       "    }\n",
       "</style>\n",
       "<table border=\"1\" class=\"dataframe\">\n",
       "  <thead>\n",
       "    <tr style=\"text-align: right;\">\n",
       "      <th></th>\n",
       "      <th>count</th>\n",
       "      <th>mean</th>\n",
       "      <th>std</th>\n",
       "      <th>min</th>\n",
       "      <th>25%</th>\n",
       "      <th>50%</th>\n",
       "      <th>75%</th>\n",
       "      <th>max</th>\n",
       "    </tr>\n",
       "  </thead>\n",
       "  <tbody>\n",
       "    <tr>\n",
       "      <th>voiceless</th>\n",
       "      <td>16.0</td>\n",
       "      <td>0.056563</td>\n",
       "      <td>0.039623</td>\n",
       "      <td>0.014</td>\n",
       "      <td>0.01975</td>\n",
       "      <td>0.051</td>\n",
       "      <td>0.09550</td>\n",
       "      <td>0.116</td>\n",
       "    </tr>\n",
       "    <tr>\n",
       "      <th>voiced</th>\n",
       "      <td>16.0</td>\n",
       "      <td>0.057000</td>\n",
       "      <td>0.039433</td>\n",
       "      <td>0.013</td>\n",
       "      <td>0.02150</td>\n",
       "      <td>0.053</td>\n",
       "      <td>0.09325</td>\n",
       "      <td>0.108</td>\n",
       "    </tr>\n",
       "  </tbody>\n",
       "</table>\n",
       "</div>"
      ],
      "text/plain": [
       "           count      mean       std    min      25%    50%      75%    max\n",
       "voiceless   16.0  0.056563  0.039623  0.014  0.01975  0.051  0.09550  0.116\n",
       "voiced      16.0  0.057000  0.039433  0.013  0.02150  0.053  0.09325  0.108"
      ]
     },
     "execution_count": 22,
     "metadata": {},
     "output_type": "execute_result"
    }
   ],
   "source": [
    "pd.DataFrame([(data3[data3['voiced_final'] == 0].duration.describe()),\n",
    "               data3[data3['voiced_final'] == 1].duration.describe()],\n",
    "             index=['voiceless', 'voiced'])"
   ]
  },
  {
   "cell_type": "code",
   "execution_count": 23,
   "metadata": {
    "scrolled": false
   },
   "outputs": [
    {
     "data": {
      "text/plain": [
       "<matplotlib.axes._subplots.AxesSubplot at 0x7f4684457630>"
      ]
     },
     "execution_count": 23,
     "metadata": {},
     "output_type": "execute_result"
    },
    {
     "data": {
      "image/png": "[encoded data removed]",
      "text/plain": [
       "<matplotlib.figure.Figure at 0x7f46845316d8>"
      ]
     },
     "metadata": {},
     "output_type": "display_data"
    }
   ],
   "source": [
    "data3.boxplot('duration', by='voiced_final')"
   ]
  },
  {
   "cell_type": "code",
   "execution_count": 24,
   "metadata": {
    "scrolled": true
   },
   "outputs": [
    {
     "name": "stdout",
     "output_type": "stream",
     "text": [
      "D Statistic: 0.125 \n",
      "p-value: 0.999633292158\n"
     ]
    }
   ],
   "source": [
    "D, p = ks_2samp(data3[data3['voiced_final'] == 0].duration,\n",
    "         data3[data3['voiced_final'] == 1].duration)\n",
    "print('D Statistic:', D, '\\np-value:', p)"
   ]
  },
  {
   "cell_type": "markdown",
   "metadata": {},
   "source": [
    "Evidence does not disprove Hypothesis 3 (null hypothesis)<br>\n",
    "p-value is greater than 0.05 threshold"
   ]
  },
  {
   "cell_type": "markdown",
   "metadata": {},
   "source": [
    "### Question 4:<br>\n",
    "Does the voicing of a consonant affect its VOT?\n",
    "\n",
    "Hypothesis:<br>\n",
    "I am going to assume the Null Hypothesis is true until proven false--That voicing of a consonant has no effect its VOT."
   ]
  },
  {
   "cell_type": "markdown",
   "metadata": {},
   "source": [
    "data for this question:<br>\n",
    "Same data as question 3<br>\n",
    "Where segment_measured == VOT whether voiced_initial is voiced or not"
   ]
  },
  {
   "cell_type": "markdown",
   "metadata": {},
   "source": [
    "Descriptive Statistics"
   ]
  },
  {
   "cell_type": "code",
   "execution_count": 25,
   "metadata": {},
   "outputs": [
    {
     "data": {
      "text/html": [
       "<div>\n",
       "<style>\n",
       "    .dataframe thead tr:only-child th {\n",
       "        text-align: right;\n",
       "    }\n",
       "\n",
       "    .dataframe thead th {\n",
       "        text-align: left;\n",
       "    }\n",
       "\n",
       "    .dataframe tbody tr th {\n",
       "        vertical-align: top;\n",
       "    }\n",
       "</style>\n",
       "<table border=\"1\" class=\"dataframe\">\n",
       "  <thead>\n",
       "    <tr style=\"text-align: right;\">\n",
       "      <th></th>\n",
       "      <th>count</th>\n",
       "      <th>mean</th>\n",
       "      <th>std</th>\n",
       "      <th>min</th>\n",
       "      <th>25%</th>\n",
       "      <th>50%</th>\n",
       "      <th>75%</th>\n",
       "      <th>max</th>\n",
       "    </tr>\n",
       "  </thead>\n",
       "  <tbody>\n",
       "    <tr>\n",
       "      <th>voiceless</th>\n",
       "      <td>16.0</td>\n",
       "      <td>0.093875</td>\n",
       "      <td>0.012543</td>\n",
       "      <td>0.071</td>\n",
       "      <td>0.0875</td>\n",
       "      <td>0.0945</td>\n",
       "      <td>0.10425</td>\n",
       "      <td>0.116</td>\n",
       "    </tr>\n",
       "    <tr>\n",
       "      <th>voiced</th>\n",
       "      <td>16.0</td>\n",
       "      <td>0.019688</td>\n",
       "      <td>0.005689</td>\n",
       "      <td>0.013</td>\n",
       "      <td>0.0140</td>\n",
       "      <td>0.0205</td>\n",
       "      <td>0.02325</td>\n",
       "      <td>0.031</td>\n",
       "    </tr>\n",
       "  </tbody>\n",
       "</table>\n",
       "</div>"
      ],
      "text/plain": [
       "           count      mean       std    min     25%     50%      75%    max\n",
       "voiceless   16.0  0.093875  0.012543  0.071  0.0875  0.0945  0.10425  0.116\n",
       "voiced      16.0  0.019688  0.005689  0.013  0.0140  0.0205  0.02325  0.031"
      ]
     },
     "execution_count": 25,
     "metadata": {},
     "output_type": "execute_result"
    }
   ],
   "source": [
    "pd.DataFrame([(data3[data3['voiced_initial'] == 0].duration.describe()),\n",
    "               data3[data3['voiced_initial'] == 1].duration.describe()],\n",
    "             index=['voiceless', 'voiced'])"
   ]
  },
  {
   "cell_type": "code",
   "execution_count": 26,
   "metadata": {
    "scrolled": true
   },
   "outputs": [
    {
     "data": {
      "text/plain": [
       "<matplotlib.axes._subplots.AxesSubplot at 0x7f4684345390>"
      ]
     },
     "execution_count": 26,
     "metadata": {},
     "output_type": "execute_result"
    },
    {
     "data": {
      "image/png": "[encoded data removed]",
      "text/plain": [
       "<matplotlib.figure.Figure at 0x7f46843b1780>"
      ]
     },
     "metadata": {},
     "output_type": "display_data"
    }
   ],
   "source": [
    "data3.boxplot('duration', by='voiced_initial')"
   ]
  },
  {
   "cell_type": "code",
   "execution_count": 27,
   "metadata": {
    "scrolled": false
   },
   "outputs": [
    {
     "name": "stdout",
     "output_type": "stream",
     "text": [
      "D Statistic: 1.0 \n",
      "p-value: 2.25070349439e-07\n"
     ]
    }
   ],
   "source": [
    "D, p = ks_2samp(data3[data3['voiced_initial'] == 0].duration,\n",
    "         data3[data3['voiced_initial'] == 1].duration)\n",
    "print('D Statistic:', D, '\\np-value:', p)"
   ]
  },
  {
   "cell_type": "markdown",
   "metadata": {},
   "source": [
    "Hypothesis 4 is wrong<br>\n",
    "p-value is far below the 0.05 threshold"
   ]
  },
  {
   "cell_type": "markdown",
   "metadata": {},
   "source": [
    "## 7.\n",
    "Please attach a printout of your log file (or an Excel spreadsheet made from your log file).  Be sure that the organization of your data is clear so that I know what I am looking at."
   ]
  },
  {
   "cell_type": "code",
   "execution_count": 28,
   "metadata": {
    "scrolled": true
   },
   "outputs": [
    {
     "data": {
      "text/html": [
       "<div>\n",
       "<style>\n",
       "    .dataframe thead tr:only-child th {\n",
       "        text-align: right;\n",
       "    }\n",
       "\n",
       "    .dataframe thead th {\n",
       "        text-align: left;\n",
       "    }\n",
       "\n",
       "    .dataframe tbody tr th {\n",
       "        vertical-align: top;\n",
       "    }\n",
       "</style>\n",
       "<table border=\"1\" class=\"dataframe\">\n",
       "  <thead>\n",
       "    <tr style=\"text-align: right;\">\n",
       "      <th></th>\n",
       "      <th>t1</th>\n",
       "      <th>t2</th>\n",
       "      <th>duration</th>\n",
       "      <th>word</th>\n",
       "      <th>voiced_initial</th>\n",
       "      <th>voiced_final</th>\n",
       "      <th>segment_measured</th>\n",
       "    </tr>\n",
       "  </thead>\n",
       "  <tbody>\n",
       "    <tr>\n",
       "      <th>0</th>\n",
       "      <td>0.693</td>\n",
       "      <td>0.940</td>\n",
       "      <td>0.248</td>\n",
       "      <td>pat</td>\n",
       "      <td>0.0</td>\n",
       "      <td>0.0</td>\n",
       "      <td>vowel</td>\n",
       "    </tr>\n",
       "    <tr>\n",
       "      <th>1</th>\n",
       "      <td>0.690</td>\n",
       "      <td>0.796</td>\n",
       "      <td>0.106</td>\n",
       "      <td>pat</td>\n",
       "      <td>0.0</td>\n",
       "      <td>0.0</td>\n",
       "      <td>VOT</td>\n",
       "    </tr>\n",
       "    <tr>\n",
       "      <th>2</th>\n",
       "      <td>0.638</td>\n",
       "      <td>0.865</td>\n",
       "      <td>0.227</td>\n",
       "      <td>pot</td>\n",
       "      <td>0.0</td>\n",
       "      <td>0.0</td>\n",
       "      <td>vowel</td>\n",
       "    </tr>\n",
       "    <tr>\n",
       "      <th>3</th>\n",
       "      <td>0.638</td>\n",
       "      <td>0.743</td>\n",
       "      <td>0.104</td>\n",
       "      <td>pot</td>\n",
       "      <td>0.0</td>\n",
       "      <td>0.0</td>\n",
       "      <td>VOT</td>\n",
       "    </tr>\n",
       "    <tr>\n",
       "      <th>4</th>\n",
       "      <td>0.584</td>\n",
       "      <td>0.834</td>\n",
       "      <td>0.250</td>\n",
       "      <td>cot</td>\n",
       "      <td>0.0</td>\n",
       "      <td>0.0</td>\n",
       "      <td>vowel</td>\n",
       "    </tr>\n",
       "    <tr>\n",
       "      <th>5</th>\n",
       "      <td>0.586</td>\n",
       "      <td>0.702</td>\n",
       "      <td>0.116</td>\n",
       "      <td>cot</td>\n",
       "      <td>0.0</td>\n",
       "      <td>0.0</td>\n",
       "      <td>VOT</td>\n",
       "    </tr>\n",
       "    <tr>\n",
       "      <th>6</th>\n",
       "      <td>0.647</td>\n",
       "      <td>0.858</td>\n",
       "      <td>0.211</td>\n",
       "      <td>putt</td>\n",
       "      <td>0.0</td>\n",
       "      <td>0.0</td>\n",
       "      <td>vowel</td>\n",
       "    </tr>\n",
       "    <tr>\n",
       "      <th>7</th>\n",
       "      <td>0.648</td>\n",
       "      <td>0.727</td>\n",
       "      <td>0.080</td>\n",
       "      <td>putt</td>\n",
       "      <td>0.0</td>\n",
       "      <td>0.0</td>\n",
       "      <td>VOT</td>\n",
       "    </tr>\n",
       "    <tr>\n",
       "      <th>8</th>\n",
       "      <td>0.666</td>\n",
       "      <td>0.893</td>\n",
       "      <td>0.227</td>\n",
       "      <td>talk</td>\n",
       "      <td>0.0</td>\n",
       "      <td>0.0</td>\n",
       "      <td>vowel</td>\n",
       "    </tr>\n",
       "    <tr>\n",
       "      <th>9</th>\n",
       "      <td>0.666</td>\n",
       "      <td>0.760</td>\n",
       "      <td>0.095</td>\n",
       "      <td>talk</td>\n",
       "      <td>0.0</td>\n",
       "      <td>0.0</td>\n",
       "      <td>VOT</td>\n",
       "    </tr>\n",
       "    <tr>\n",
       "      <th>10</th>\n",
       "      <td>0.688</td>\n",
       "      <td>0.847</td>\n",
       "      <td>0.159</td>\n",
       "      <td>puck</td>\n",
       "      <td>0.0</td>\n",
       "      <td>0.0</td>\n",
       "      <td>vowel</td>\n",
       "    </tr>\n",
       "    <tr>\n",
       "      <th>11</th>\n",
       "      <td>0.687</td>\n",
       "      <td>0.758</td>\n",
       "      <td>0.071</td>\n",
       "      <td>puck</td>\n",
       "      <td>0.0</td>\n",
       "      <td>0.0</td>\n",
       "      <td>VOT</td>\n",
       "    </tr>\n",
       "    <tr>\n",
       "      <th>12</th>\n",
       "      <td>0.682</td>\n",
       "      <td>0.875</td>\n",
       "      <td>0.193</td>\n",
       "      <td>tuck</td>\n",
       "      <td>0.0</td>\n",
       "      <td>0.0</td>\n",
       "      <td>vowel</td>\n",
       "    </tr>\n",
       "    <tr>\n",
       "      <th>13</th>\n",
       "      <td>0.681</td>\n",
       "      <td>0.777</td>\n",
       "      <td>0.097</td>\n",
       "      <td>tuck</td>\n",
       "      <td>0.0</td>\n",
       "      <td>0.0</td>\n",
       "      <td>VOT</td>\n",
       "    </tr>\n",
       "    <tr>\n",
       "      <th>14</th>\n",
       "      <td>0.658</td>\n",
       "      <td>0.838</td>\n",
       "      <td>0.180</td>\n",
       "      <td>pick</td>\n",
       "      <td>0.0</td>\n",
       "      <td>0.0</td>\n",
       "      <td>vowel</td>\n",
       "    </tr>\n",
       "    <tr>\n",
       "      <th>15</th>\n",
       "      <td>0.658</td>\n",
       "      <td>0.736</td>\n",
       "      <td>0.077</td>\n",
       "      <td>pick</td>\n",
       "      <td>0.0</td>\n",
       "      <td>0.0</td>\n",
       "      <td>VOT</td>\n",
       "    </tr>\n",
       "    <tr>\n",
       "      <th>16</th>\n",
       "      <td>0.694</td>\n",
       "      <td>1.025</td>\n",
       "      <td>0.331</td>\n",
       "      <td>pad</td>\n",
       "      <td>0.0</td>\n",
       "      <td>1.0</td>\n",
       "      <td>vowel</td>\n",
       "    </tr>\n",
       "    <tr>\n",
       "      <th>17</th>\n",
       "      <td>0.695</td>\n",
       "      <td>0.803</td>\n",
       "      <td>0.108</td>\n",
       "      <td>pad</td>\n",
       "      <td>0.0</td>\n",
       "      <td>1.0</td>\n",
       "      <td>VOT</td>\n",
       "    </tr>\n",
       "    <tr>\n",
       "      <th>18</th>\n",
       "      <td>0.784</td>\n",
       "      <td>1.086</td>\n",
       "      <td>0.302</td>\n",
       "      <td>pod</td>\n",
       "      <td>0.0</td>\n",
       "      <td>1.0</td>\n",
       "      <td>vowel</td>\n",
       "    </tr>\n",
       "    <tr>\n",
       "      <th>19</th>\n",
       "      <td>0.784</td>\n",
       "      <td>0.878</td>\n",
       "      <td>0.094</td>\n",
       "      <td>pod</td>\n",
       "      <td>0.0</td>\n",
       "      <td>1.0</td>\n",
       "      <td>VOT</td>\n",
       "    </tr>\n",
       "    <tr>\n",
       "      <th>20</th>\n",
       "      <td>0.656</td>\n",
       "      <td>0.964</td>\n",
       "      <td>0.308</td>\n",
       "      <td>cod</td>\n",
       "      <td>0.0</td>\n",
       "      <td>1.0</td>\n",
       "      <td>vowel</td>\n",
       "    </tr>\n",
       "    <tr>\n",
       "      <th>21</th>\n",
       "      <td>0.655</td>\n",
       "      <td>0.748</td>\n",
       "      <td>0.093</td>\n",
       "      <td>cod</td>\n",
       "      <td>0.0</td>\n",
       "      <td>1.0</td>\n",
       "      <td>VOT</td>\n",
       "    </tr>\n",
       "    <tr>\n",
       "      <th>22</th>\n",
       "      <td>0.694</td>\n",
       "      <td>0.943</td>\n",
       "      <td>0.249</td>\n",
       "      <td>pud</td>\n",
       "      <td>0.0</td>\n",
       "      <td>1.0</td>\n",
       "      <td>vowel</td>\n",
       "    </tr>\n",
       "    <tr>\n",
       "      <th>23</th>\n",
       "      <td>0.695</td>\n",
       "      <td>0.785</td>\n",
       "      <td>0.091</td>\n",
       "      <td>pud</td>\n",
       "      <td>0.0</td>\n",
       "      <td>1.0</td>\n",
       "      <td>VOT</td>\n",
       "    </tr>\n",
       "    <tr>\n",
       "      <th>24</th>\n",
       "      <td>0.755</td>\n",
       "      <td>1.068</td>\n",
       "      <td>0.313</td>\n",
       "      <td>tog</td>\n",
       "      <td>0.0</td>\n",
       "      <td>1.0</td>\n",
       "      <td>vowel</td>\n",
       "    </tr>\n",
       "    <tr>\n",
       "      <th>25</th>\n",
       "      <td>0.755</td>\n",
       "      <td>0.860</td>\n",
       "      <td>0.105</td>\n",
       "      <td>tog</td>\n",
       "      <td>0.0</td>\n",
       "      <td>1.0</td>\n",
       "      <td>VOT</td>\n",
       "    </tr>\n",
       "    <tr>\n",
       "      <th>26</th>\n",
       "      <td>0.691</td>\n",
       "      <td>0.943</td>\n",
       "      <td>0.252</td>\n",
       "      <td>pug</td>\n",
       "      <td>0.0</td>\n",
       "      <td>1.0</td>\n",
       "      <td>vowel</td>\n",
       "    </tr>\n",
       "    <tr>\n",
       "      <th>27</th>\n",
       "      <td>0.691</td>\n",
       "      <td>0.769</td>\n",
       "      <td>0.078</td>\n",
       "      <td>pug</td>\n",
       "      <td>0.0</td>\n",
       "      <td>1.0</td>\n",
       "      <td>VOT</td>\n",
       "    </tr>\n",
       "    <tr>\n",
       "      <th>28</th>\n",
       "      <td>0.683</td>\n",
       "      <td>0.943</td>\n",
       "      <td>0.261</td>\n",
       "      <td>tug</td>\n",
       "      <td>0.0</td>\n",
       "      <td>1.0</td>\n",
       "      <td>vowel</td>\n",
       "    </tr>\n",
       "    <tr>\n",
       "      <th>29</th>\n",
       "      <td>0.683</td>\n",
       "      <td>0.780</td>\n",
       "      <td>0.097</td>\n",
       "      <td>tug</td>\n",
       "      <td>0.0</td>\n",
       "      <td>1.0</td>\n",
       "      <td>VOT</td>\n",
       "    </tr>\n",
       "    <tr>\n",
       "      <th>...</th>\n",
       "      <td>...</td>\n",
       "      <td>...</td>\n",
       "      <td>...</td>\n",
       "      <td>...</td>\n",
       "      <td>...</td>\n",
       "      <td>...</td>\n",
       "      <td>...</td>\n",
       "    </tr>\n",
       "    <tr>\n",
       "      <th>34</th>\n",
       "      <td>0.686</td>\n",
       "      <td>0.867</td>\n",
       "      <td>0.180</td>\n",
       "      <td>bought</td>\n",
       "      <td>1.0</td>\n",
       "      <td>0.0</td>\n",
       "      <td>vowel</td>\n",
       "    </tr>\n",
       "    <tr>\n",
       "      <th>35</th>\n",
       "      <td>0.688</td>\n",
       "      <td>0.701</td>\n",
       "      <td>0.014</td>\n",
       "      <td>bought</td>\n",
       "      <td>1.0</td>\n",
       "      <td>0.0</td>\n",
       "      <td>VOT</td>\n",
       "    </tr>\n",
       "    <tr>\n",
       "      <th>36</th>\n",
       "      <td>0.704</td>\n",
       "      <td>0.896</td>\n",
       "      <td>0.192</td>\n",
       "      <td>got</td>\n",
       "      <td>1.0</td>\n",
       "      <td>0.0</td>\n",
       "      <td>vowel</td>\n",
       "    </tr>\n",
       "    <tr>\n",
       "      <th>37</th>\n",
       "      <td>0.704</td>\n",
       "      <td>0.735</td>\n",
       "      <td>0.031</td>\n",
       "      <td>got</td>\n",
       "      <td>1.0</td>\n",
       "      <td>0.0</td>\n",
       "      <td>VOT</td>\n",
       "    </tr>\n",
       "    <tr>\n",
       "      <th>38</th>\n",
       "      <td>0.718</td>\n",
       "      <td>0.869</td>\n",
       "      <td>0.151</td>\n",
       "      <td>but</td>\n",
       "      <td>1.0</td>\n",
       "      <td>0.0</td>\n",
       "      <td>vowel</td>\n",
       "    </tr>\n",
       "    <tr>\n",
       "      <th>39</th>\n",
       "      <td>0.718</td>\n",
       "      <td>0.732</td>\n",
       "      <td>0.014</td>\n",
       "      <td>but</td>\n",
       "      <td>1.0</td>\n",
       "      <td>0.0</td>\n",
       "      <td>VOT</td>\n",
       "    </tr>\n",
       "    <tr>\n",
       "      <th>40</th>\n",
       "      <td>0.745</td>\n",
       "      <td>0.900</td>\n",
       "      <td>0.155</td>\n",
       "      <td>dock</td>\n",
       "      <td>1.0</td>\n",
       "      <td>0.0</td>\n",
       "      <td>vowel</td>\n",
       "    </tr>\n",
       "    <tr>\n",
       "      <th>41</th>\n",
       "      <td>0.744</td>\n",
       "      <td>0.761</td>\n",
       "      <td>0.016</td>\n",
       "      <td>dock</td>\n",
       "      <td>1.0</td>\n",
       "      <td>0.0</td>\n",
       "      <td>VOT</td>\n",
       "    </tr>\n",
       "    <tr>\n",
       "      <th>42</th>\n",
       "      <td>0.802</td>\n",
       "      <td>0.930</td>\n",
       "      <td>0.128</td>\n",
       "      <td>buck</td>\n",
       "      <td>1.0</td>\n",
       "      <td>0.0</td>\n",
       "      <td>vowel</td>\n",
       "    </tr>\n",
       "    <tr>\n",
       "      <th>43</th>\n",
       "      <td>0.802</td>\n",
       "      <td>0.823</td>\n",
       "      <td>0.021</td>\n",
       "      <td>buck</td>\n",
       "      <td>1.0</td>\n",
       "      <td>0.0</td>\n",
       "      <td>VOT</td>\n",
       "    </tr>\n",
       "    <tr>\n",
       "      <th>44</th>\n",
       "      <td>0.786</td>\n",
       "      <td>0.911</td>\n",
       "      <td>0.125</td>\n",
       "      <td>duck</td>\n",
       "      <td>1.0</td>\n",
       "      <td>0.0</td>\n",
       "      <td>vowel</td>\n",
       "    </tr>\n",
       "    <tr>\n",
       "      <th>45</th>\n",
       "      <td>0.785</td>\n",
       "      <td>0.809</td>\n",
       "      <td>0.024</td>\n",
       "      <td>duck</td>\n",
       "      <td>1.0</td>\n",
       "      <td>0.0</td>\n",
       "      <td>VOT</td>\n",
       "    </tr>\n",
       "    <tr>\n",
       "      <th>46</th>\n",
       "      <td>0.787</td>\n",
       "      <td>0.916</td>\n",
       "      <td>0.129</td>\n",
       "      <td>bic</td>\n",
       "      <td>1.0</td>\n",
       "      <td>0.0</td>\n",
       "      <td>vowel</td>\n",
       "    </tr>\n",
       "    <tr>\n",
       "      <th>47</th>\n",
       "      <td>0.785</td>\n",
       "      <td>0.809</td>\n",
       "      <td>0.024</td>\n",
       "      <td>bic</td>\n",
       "      <td>1.0</td>\n",
       "      <td>0.0</td>\n",
       "      <td>VOT</td>\n",
       "    </tr>\n",
       "    <tr>\n",
       "      <th>48</th>\n",
       "      <td>0.836</td>\n",
       "      <td>1.149</td>\n",
       "      <td>0.312</td>\n",
       "      <td>bad</td>\n",
       "      <td>1.0</td>\n",
       "      <td>1.0</td>\n",
       "      <td>vowel</td>\n",
       "    </tr>\n",
       "    <tr>\n",
       "      <th>49</th>\n",
       "      <td>0.838</td>\n",
       "      <td>0.862</td>\n",
       "      <td>0.023</td>\n",
       "      <td>bad</td>\n",
       "      <td>1.0</td>\n",
       "      <td>1.0</td>\n",
       "      <td>VOT</td>\n",
       "    </tr>\n",
       "    <tr>\n",
       "      <th>50</th>\n",
       "      <td>0.653</td>\n",
       "      <td>0.908</td>\n",
       "      <td>0.255</td>\n",
       "      <td>bod</td>\n",
       "      <td>1.0</td>\n",
       "      <td>1.0</td>\n",
       "      <td>vowel</td>\n",
       "    </tr>\n",
       "    <tr>\n",
       "      <th>51</th>\n",
       "      <td>0.653</td>\n",
       "      <td>0.673</td>\n",
       "      <td>0.020</td>\n",
       "      <td>bod</td>\n",
       "      <td>1.0</td>\n",
       "      <td>1.0</td>\n",
       "      <td>VOT</td>\n",
       "    </tr>\n",
       "    <tr>\n",
       "      <th>52</th>\n",
       "      <td>0.724</td>\n",
       "      <td>1.004</td>\n",
       "      <td>0.280</td>\n",
       "      <td>god</td>\n",
       "      <td>1.0</td>\n",
       "      <td>1.0</td>\n",
       "      <td>vowel</td>\n",
       "    </tr>\n",
       "    <tr>\n",
       "      <th>53</th>\n",
       "      <td>0.723</td>\n",
       "      <td>0.751</td>\n",
       "      <td>0.028</td>\n",
       "      <td>god</td>\n",
       "      <td>1.0</td>\n",
       "      <td>1.0</td>\n",
       "      <td>VOT</td>\n",
       "    </tr>\n",
       "    <tr>\n",
       "      <th>54</th>\n",
       "      <td>0.788</td>\n",
       "      <td>0.999</td>\n",
       "      <td>0.211</td>\n",
       "      <td>bud</td>\n",
       "      <td>1.0</td>\n",
       "      <td>1.0</td>\n",
       "      <td>vowel</td>\n",
       "    </tr>\n",
       "    <tr>\n",
       "      <th>55</th>\n",
       "      <td>0.788</td>\n",
       "      <td>0.801</td>\n",
       "      <td>0.013</td>\n",
       "      <td>bud</td>\n",
       "      <td>1.0</td>\n",
       "      <td>1.0</td>\n",
       "      <td>VOT</td>\n",
       "    </tr>\n",
       "    <tr>\n",
       "      <th>56</th>\n",
       "      <td>0.741</td>\n",
       "      <td>1.034</td>\n",
       "      <td>0.292</td>\n",
       "      <td>dog</td>\n",
       "      <td>1.0</td>\n",
       "      <td>1.0</td>\n",
       "      <td>vowel</td>\n",
       "    </tr>\n",
       "    <tr>\n",
       "      <th>57</th>\n",
       "      <td>0.743</td>\n",
       "      <td>0.757</td>\n",
       "      <td>0.014</td>\n",
       "      <td>dog</td>\n",
       "      <td>1.0</td>\n",
       "      <td>1.0</td>\n",
       "      <td>VOT</td>\n",
       "    </tr>\n",
       "    <tr>\n",
       "      <th>58</th>\n",
       "      <td>0.740</td>\n",
       "      <td>0.953</td>\n",
       "      <td>0.214</td>\n",
       "      <td>bug</td>\n",
       "      <td>1.0</td>\n",
       "      <td>1.0</td>\n",
       "      <td>vowel</td>\n",
       "    </tr>\n",
       "    <tr>\n",
       "      <th>59</th>\n",
       "      <td>0.742</td>\n",
       "      <td>0.755</td>\n",
       "      <td>0.013</td>\n",
       "      <td>bug</td>\n",
       "      <td>1.0</td>\n",
       "      <td>1.0</td>\n",
       "      <td>VOT</td>\n",
       "    </tr>\n",
       "    <tr>\n",
       "      <th>60</th>\n",
       "      <td>0.727</td>\n",
       "      <td>0.933</td>\n",
       "      <td>0.207</td>\n",
       "      <td>dug</td>\n",
       "      <td>1.0</td>\n",
       "      <td>1.0</td>\n",
       "      <td>vowel</td>\n",
       "    </tr>\n",
       "    <tr>\n",
       "      <th>61</th>\n",
       "      <td>0.729</td>\n",
       "      <td>0.752</td>\n",
       "      <td>0.023</td>\n",
       "      <td>dug</td>\n",
       "      <td>1.0</td>\n",
       "      <td>1.0</td>\n",
       "      <td>VOT</td>\n",
       "    </tr>\n",
       "    <tr>\n",
       "      <th>62</th>\n",
       "      <td>0.734</td>\n",
       "      <td>0.890</td>\n",
       "      <td>0.156</td>\n",
       "      <td>big</td>\n",
       "      <td>1.0</td>\n",
       "      <td>1.0</td>\n",
       "      <td>vowel</td>\n",
       "    </tr>\n",
       "    <tr>\n",
       "      <th>63</th>\n",
       "      <td>0.734</td>\n",
       "      <td>0.757</td>\n",
       "      <td>0.022</td>\n",
       "      <td>big</td>\n",
       "      <td>1.0</td>\n",
       "      <td>1.0</td>\n",
       "      <td>VOT</td>\n",
       "    </tr>\n",
       "  </tbody>\n",
       "</table>\n",
       "<p>64 rows × 7 columns</p>\n",
       "</div>"
      ],
      "text/plain": [
       "       t1     t2  duration    word  voiced_initial  voiced_final  \\\n",
       "0   0.693  0.940     0.248     pat             0.0           0.0   \n",
       "1   0.690  0.796     0.106     pat             0.0           0.0   \n",
       "2   0.638  0.865     0.227     pot             0.0           0.0   \n",
       "3   0.638  0.743     0.104     pot             0.0           0.0   \n",
       "4   0.584  0.834     0.250     cot             0.0           0.0   \n",
       "5   0.586  0.702     0.116     cot             0.0           0.0   \n",
       "6   0.647  0.858     0.211    putt             0.0           0.0   \n",
       "7   0.648  0.727     0.080    putt             0.0           0.0   \n",
       "8   0.666  0.893     0.227    talk             0.0           0.0   \n",
       "9   0.666  0.760     0.095    talk             0.0           0.0   \n",
       "10  0.688  0.847     0.159    puck             0.0           0.0   \n",
       "11  0.687  0.758     0.071    puck             0.0           0.0   \n",
       "12  0.682  0.875     0.193    tuck             0.0           0.0   \n",
       "13  0.681  0.777     0.097    tuck             0.0           0.0   \n",
       "14  0.658  0.838     0.180    pick             0.0           0.0   \n",
       "15  0.658  0.736     0.077    pick             0.0           0.0   \n",
       "16  0.694  1.025     0.331     pad             0.0           1.0   \n",
       "17  0.695  0.803     0.108     pad             0.0           1.0   \n",
       "18  0.784  1.086     0.302     pod             0.0           1.0   \n",
       "19  0.784  0.878     0.094     pod             0.0           1.0   \n",
       "20  0.656  0.964     0.308     cod             0.0           1.0   \n",
       "21  0.655  0.748     0.093     cod             0.0           1.0   \n",
       "22  0.694  0.943     0.249     pud             0.0           1.0   \n",
       "23  0.695  0.785     0.091     pud             0.0           1.0   \n",
       "24  0.755  1.068     0.313     tog             0.0           1.0   \n",
       "25  0.755  0.860     0.105     tog             0.0           1.0   \n",
       "26  0.691  0.943     0.252     pug             0.0           1.0   \n",
       "27  0.691  0.769     0.078     pug             0.0           1.0   \n",
       "28  0.683  0.943     0.261     tug             0.0           1.0   \n",
       "29  0.683  0.780     0.097     tug             0.0           1.0   \n",
       "..    ...    ...       ...     ...             ...           ...   \n",
       "34  0.686  0.867     0.180  bought             1.0           0.0   \n",
       "35  0.688  0.701     0.014  bought             1.0           0.0   \n",
       "36  0.704  0.896     0.192     got             1.0           0.0   \n",
       "37  0.704  0.735     0.031     got             1.0           0.0   \n",
       "38  0.718  0.869     0.151     but             1.0           0.0   \n",
       "39  0.718  0.732     0.014     but             1.0           0.0   \n",
       "40  0.745  0.900     0.155    dock             1.0           0.0   \n",
       "41  0.744  0.761     0.016    dock             1.0           0.0   \n",
       "42  0.802  0.930     0.128    buck             1.0           0.0   \n",
       "43  0.802  0.823     0.021    buck             1.0           0.0   \n",
       "44  0.786  0.911     0.125    duck             1.0           0.0   \n",
       "45  0.785  0.809     0.024    duck             1.0           0.0   \n",
       "46  0.787  0.916     0.129     bic             1.0           0.0   \n",
       "47  0.785  0.809     0.024     bic             1.0           0.0   \n",
       "48  0.836  1.149     0.312     bad             1.0           1.0   \n",
       "49  0.838  0.862     0.023     bad             1.0           1.0   \n",
       "50  0.653  0.908     0.255     bod             1.0           1.0   \n",
       "51  0.653  0.673     0.020     bod             1.0           1.0   \n",
       "52  0.724  1.004     0.280     god             1.0           1.0   \n",
       "53  0.723  0.751     0.028     god             1.0           1.0   \n",
       "54  0.788  0.999     0.211     bud             1.0           1.0   \n",
       "55  0.788  0.801     0.013     bud             1.0           1.0   \n",
       "56  0.741  1.034     0.292     dog             1.0           1.0   \n",
       "57  0.743  0.757     0.014     dog             1.0           1.0   \n",
       "58  0.740  0.953     0.214     bug             1.0           1.0   \n",
       "59  0.742  0.755     0.013     bug             1.0           1.0   \n",
       "60  0.727  0.933     0.207     dug             1.0           1.0   \n",
       "61  0.729  0.752     0.023     dug             1.0           1.0   \n",
       "62  0.734  0.890     0.156     big             1.0           1.0   \n",
       "63  0.734  0.757     0.022     big             1.0           1.0   \n",
       "\n",
       "   segment_measured  \n",
       "0             vowel  \n",
       "1               VOT  \n",
       "2             vowel  \n",
       "3               VOT  \n",
       "4             vowel  \n",
       "5               VOT  \n",
       "6             vowel  \n",
       "7               VOT  \n",
       "8             vowel  \n",
       "9               VOT  \n",
       "10            vowel  \n",
       "11              VOT  \n",
       "12            vowel  \n",
       "13              VOT  \n",
       "14            vowel  \n",
       "15              VOT  \n",
       "16            vowel  \n",
       "17              VOT  \n",
       "18            vowel  \n",
       "19              VOT  \n",
       "20            vowel  \n",
       "21              VOT  \n",
       "22            vowel  \n",
       "23              VOT  \n",
       "24            vowel  \n",
       "25              VOT  \n",
       "26            vowel  \n",
       "27              VOT  \n",
       "28            vowel  \n",
       "29              VOT  \n",
       "..              ...  \n",
       "34            vowel  \n",
       "35              VOT  \n",
       "36            vowel  \n",
       "37              VOT  \n",
       "38            vowel  \n",
       "39              VOT  \n",
       "40            vowel  \n",
       "41              VOT  \n",
       "42            vowel  \n",
       "43              VOT  \n",
       "44            vowel  \n",
       "45              VOT  \n",
       "46            vowel  \n",
       "47              VOT  \n",
       "48            vowel  \n",
       "49              VOT  \n",
       "50            vowel  \n",
       "51              VOT  \n",
       "52            vowel  \n",
       "53              VOT  \n",
       "54            vowel  \n",
       "55              VOT  \n",
       "56            vowel  \n",
       "57              VOT  \n",
       "58            vowel  \n",
       "59              VOT  \n",
       "60            vowel  \n",
       "61              VOT  \n",
       "62            vowel  \n",
       "63              VOT  \n",
       "\n",
       "[64 rows x 7 columns]"
      ]
     },
     "execution_count": 28,
     "metadata": {},
     "output_type": "execute_result"
    }
   ],
   "source": [
    "durations"
   ]
  },
  {
   "cell_type": "markdown",
   "metadata": {},
   "source": [
    "# Discussion\n",
    "## 8. \n",
    "For each of your hypotheses, explain whether it was supported or not by your results."
   ]
  },
  {
   "cell_type": "markdown",
   "metadata": {},
   "source": [
    "Hypothesis 1 is wrong (null hypothesis rejected)<br>\n",
    "p-value is less than 0.05 threshold<br>\n",
    "Evidence suggests That voicing of a consonant has an effect on the duration of the preceding vowel."
   ]
  },
  {
   "cell_type": "markdown",
   "metadata": {},
   "source": [
    "Hypothesis 2 is wrong (null hypothesis rejected)<br>\n",
    "p-value is less than 0.05 threshold<br>\n",
    "Evidence suggests that voicing of a consonant has an effect on the duration of the following vowel"
   ]
  },
  {
   "cell_type": "markdown",
   "metadata": {},
   "source": [
    "Evidence does not disprove Hypothesis 3<br>\n",
    "p-value is greater than 0.05 threshold<br>\n",
    "Evidence suggests that voicing of a consonant has no effect on the VOT of a preceding consonant."
   ]
  },
  {
   "cell_type": "markdown",
   "metadata": {},
   "source": [
    "Hypothesis 4 is wrong<br>\n",
    "p-value is far below the 0.05 threshold<br>\n",
    "Evidence suggests that voicing of a consonant has an effect its VOT."
   ]
  },
  {
   "cell_type": "markdown",
   "metadata": {},
   "source": [
    "## 9. \n",
    "Briefly discuss how our choice of vowel segmentation criteria might have affected your results."
   ]
  },
  {
   "cell_type": "markdown",
   "metadata": {},
   "source": [
    "The criteria I used for vowel segmentation in gathering this data were that the start is at the release of the stop of the preceding consonant and the end of the vowel is when the higher formants (f3, f4) no longer appear in the spectrogram of the word.<br>\n",
    "The issue with vowel segmentation for this data is that this speaker's vowels become creaky before the following consonant, making it difficult to identify the end of the vowel according to my criteria above."
   ]
  },
  {
   "cell_type": "markdown",
   "metadata": {},
   "source": [
    "## 10.\n",
    "Suggest how you could re-do your analysis based on the duration of the voiced portion of the vowel (what we traditionally consider “the vowel”) without making any new measurements.  NB, you do not have to do a new analysis—just say how it could be done."
   ]
  },
  {
   "cell_type": "markdown",
   "metadata": {},
   "source": [
    "If I were to gather this data again, I would use the following as my criterion for identifying the end of a vowel segment (in a CVC): a vowel segment ends with the release of the following stop.<br> I think this would be a more consistent way of measuring duration, and would yield more confidence in the accuracy of the duration measurements. Another possible advantage to this criterion for measuring vowel segment termination (and start) is that it should be easier to find duration measurements using automatic computerized methods. "
   ]
  },
  {
   "cell_type": "code",
   "execution_count": null,
   "metadata": {
    "collapsed": true
   },
   "outputs": [],
   "source": []
  }
 ],
 "metadata": {
  "kernelspec": {
   "display_name": "data_science_general",
   "language": "python",
   "name": "data_science_general"
  },
  "language_info": {
   "codemirror_mode": {
    "name": "ipython",
    "version": 3
   },
   "file_extension": ".py",
   "mimetype": "text/x-python",
   "name": "python",
   "nbconvert_exporter": "python",
   "pygments_lexer": "ipython3",
   "version": "3.6.1"
  }
 },
 "nbformat": 4,
 "nbformat_minor": 2
}
